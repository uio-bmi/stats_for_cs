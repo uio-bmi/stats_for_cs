{
 "cells": [
  {
   "cell_type": "markdown",
   "metadata": {
    "collapsed": true
   },
   "source": [
    "# Introduction to Probability: Part 2\n",
    "\n",
    "This notebook accompanies the second part of the Introduction to probability lecture and includes examples, different probability distributions, and introduction to the concept of conditional probability."
   ]
  },
  {
   "cell_type": "code",
   "execution_count": null,
   "metadata": {},
   "outputs": [],
   "source": [
    "import random\n",
    "import numpy as np\n",
    "import re\n",
    "import plotly.express as px\n"
   ]
  },
  {
   "cell_type": "markdown",
   "metadata": {},
   "source": [
    "## Example 1\n",
    "\n",
    "You are rolling a die three times. What is the probability that the sum of the sides is less than 12?"
   ]
  },
  {
   "cell_type": "code",
   "execution_count": null,
   "metadata": {},
   "outputs": [],
   "source": [
    "def estimate_probability_of_sum(target_sum, num_experiments):\n",
    "    \n",
    "    # TODO: estimate the probability\n",
    "\n",
    "estimate_probability_of_sum(12, 100)\n",
    "    "
   ]
  },
  {
   "cell_type": "markdown",
   "metadata": {},
   "source": [
    "## Example 2\n",
    "\n",
    "Three card players play a series of matches. The probability that player 1 will win any game is 30%, the probability that player 2 will win is 50% and the probability that the third player wins is 20%. If they play 6 games, what is the probability that player 1 wins at least 2 games?"
   ]
  },
  {
   "cell_type": "code",
   "execution_count": null,
   "metadata": {},
   "outputs": [],
   "source": [
    "def estimate_winner_probability(player1_p, player2_p, player3_p, num_games, num_experiments):\n",
    "    \n",
    "    # TODO: estimate the probability\n",
    "\n",
    "estimate_winner_probability(0.3, 0.5, 0.2, 6, 10000)\n",
    "    "
   ]
  },
  {
   "cell_type": "markdown",
   "source": [
    "# Different distributions\n",
    "\n",
    "In Session 1, we simulated tossing a coin 3 times to get the probability of getting different number of heads. This was plotted as a histogram - a way to connect the number of heads (X) with the frequency of obtaining them (Y).\n"
   ],
   "metadata": {
    "collapsed": false
   }
  },
  {
   "cell_type": "code",
   "execution_count": null,
   "outputs": [],
   "source": [
    "def toss_coin_n_times(p_head, n):    \n",
    "    return ['H' if random.random() <= p_head else 'T' for _ in range(n)]\n",
    "\n",
    "def simulate_event_probabilities(p_head, n, num_experiments):\n",
    "    event_counts = {i: 0 for i in range(n+1)}\n",
    "    \n",
    "    for experiment in range(num_experiments):\n",
    "        outcome = toss_coin_n_times(p_head, n)\n",
    "        event_counts[outcome.count('H')] += 1\n",
    "        \n",
    "    event_probabilities = {f'H{event}': count / num_experiments for event, count in event_counts.items()}\n",
    "    \n",
    "    return event_probabilities\n",
    "\n",
    "def plot_event_probabilities(event_probabilities):\n",
    "    fig = px.bar(x=list(event_probabilities.keys()), y=list(event_probabilities.values()), labels={'x': 'event', 'y': 'probability'})\n",
    "    \n",
    "    fig.show()\n",
    "\n",
    "event_probabilities = simulate_event_probabilities(p_head=0.5, n=3, num_experiments=1000)\n",
    "print(event_probabilities)\n",
    "\n",
    "plot_event_probabilities(event_probabilities)"
   ],
   "metadata": {
    "collapsed": false
   }
  },
  {
   "cell_type": "markdown",
   "source": [
    "This can also be computed using a formula of binomial distribution (probability of getting k successes in n independent trials when the probability of success is p):"
   ],
   "metadata": {
    "collapsed": false
   }
  },
  {
   "cell_type": "code",
   "execution_count": null,
   "outputs": [],
   "source": [
    "import math\n",
    "\n",
    "def head_count_prob(p_head, n, head_count):\n",
    "    return math.factorial(n) / (math.factorial(head_count) * math.factorial(n - head_count)) * (p_head**head_count) * ((1-p_head)**(n-head_count))\n",
    "\n",
    "event_probabilities_from_formula = {\n",
    "    f'H{head_count}': head_count_prob(p_head=0.5, n=3, head_count=head_count) for head_count in range(4)\n",
    "}\n",
    "\n",
    "print(event_probabilities_from_formula)\n",
    "plot_event_probabilities(event_probabilities_from_formula)"
   ],
   "metadata": {
    "collapsed": false
   }
  },
  {
   "cell_type": "markdown",
   "source": [
    "Or using a library function that implements the formula:"
   ],
   "metadata": {
    "collapsed": false
   }
  },
  {
   "cell_type": "code",
   "execution_count": null,
   "outputs": [],
   "source": [
    "from scipy.stats import binom\n",
    "\n",
    "def compute_event_probabilities_from_formula(p_head, n):\n",
    "    return {\n",
    "        f'H{head_count}': round(binom.pmf(k=head_count, n=n, p=p_head), 4) for head_count in range(n+1)\n",
    "    }\n",
    "\n",
    "event_probabilities_from_formula = compute_event_probabilities_from_formula(p_head=0.5, n=3)\n",
    "\n",
    "print(event_probabilities_from_formula)\n",
    "plot_event_probabilities(event_probabilities_from_formula)"
   ],
   "metadata": {
    "collapsed": false
   }
  },
  {
   "cell_type": "markdown",
   "source": [
    "And if we combine the plots:"
   ],
   "metadata": {
    "collapsed": false
   }
  },
  {
   "cell_type": "code",
   "execution_count": null,
   "outputs": [],
   "source": [
    "import plotly.graph_objects as go\n",
    "\n",
    "def plot_probability_comparison(event_probabilities_simulation, event_probabilities_formula):\n",
    "    fig = go.Figure(data=[\n",
    "        go.Bar(name='formula', x=list(event_probabilities_formula.keys()), y=list(event_probabilities_formula.values())),\n",
    "        go.Bar(name='simulation', x=list(event_probabilities_simulation.keys()), y=list(event_probabilities_simulation.values()))])\n",
    "    fig.update_layout(barmode='group')\n",
    "        \n",
    "    fig.show()\n",
    "    \n",
    "p_head, n, num_experiments = 0.5, 3, 1000\n",
    "event_probabilities_sim = simulate_event_probabilities(p_head, n, num_experiments)\n",
    "event_probabilities_formula = compute_event_probabilities_from_formula(p_head, n)\n",
    "\n",
    "plot_probability_comparison(event_probabilities_sim, event_probabilities_formula)"
   ],
   "metadata": {
    "collapsed": false
   }
  },
  {
   "cell_type": "markdown",
   "source": [
    "## What happens if we toss a coin many times: approaching continuous distributions"
   ],
   "metadata": {
    "collapsed": false
   }
  },
  {
   "cell_type": "code",
   "execution_count": null,
   "outputs": [],
   "source": [
    "p_head, n, num_experiments = 0.5, 100, 1000\n",
    "event_probabilities_sim = simulate_event_probabilities(p_head, n, num_experiments)\n",
    "plot_event_probabilities(event_probabilities_sim)"
   ],
   "metadata": {
    "collapsed": false
   }
  },
  {
   "cell_type": "markdown",
   "source": [
    "## Example problem: Monopoly\n",
    "\n",
    "\n",
    "In the game of Monopoly, one moves one's marker around a board containing 40 fields, by throwing a pair of dice every turn. What is the probability of finishing your first round on your fifth turn?\n",
    "\n",
    "<img src=\"https://images.unsplash.com/photo-1640461470346-c8b56497850a?ixlib=rb-4.0.3&ixid=MnwxMjA3fDB8MHxwaG90by1wYWdlfHx8fGVufDB8fHx8&auto=format&fit=crop&w=1674&q=80\" style=\"height:280px; float: left; margin-top: 10px; margin-right: 10px\" />\n",
    "\n",
    "Alternatively:\n",
    "\n",
    "What is the probability that the sum of values passes 40 after drawing a sample from a pair of (2) randint(1,6) calls exactly 5 times?\n",
    "\n",
    "\n",
    "Write a code to simulate this and estimate the probability."
   ],
   "metadata": {
    "collapsed": false
   }
  },
  {
   "cell_type": "code",
   "execution_count": null,
   "outputs": [],
   "source": [
    "from random import randint\n",
    "\n",
    "# TODO: write the code here"
   ],
   "metadata": {
    "collapsed": false
   }
  },
  {
   "cell_type": "markdown",
   "metadata": {},
   "source": [
    "## Example problem: computing the probability of a letter in a text"
   ]
  },
  {
   "cell_type": "code",
   "execution_count": null,
   "metadata": {},
   "outputs": [],
   "source": [
    "original_text = \"\"\"To be, or not to be, that is the question, Whether 'tis nobler in the mind to suffer The slings and arrows of outrageous fortune,Or to take arms against a sea of troubles,And by opposing end them? To die: to sleep;No more; and by a sleep to say we endThe heart-ache and the thousand natural shocksThat flesh is heir to, 'tis a consummationDevoutly to be wish'd. To die, to sleep;To sleep: perchance to dream: ay, there's the rub;For in that sleep of death what dreams may comeWhen we have shuffled off this mortal coil,Must give us pause: there's the respectThat makes calamity of so long life;For who would bear the whips and scorns of time,The oppressor's wrong, the proud man's contumely,The pangs of despised love, the law's delay,The insolence of office and the spurnsThat patient merit of the unworthy takes,When he himself might his quietus makeWith a bare bodkin? who would fardels bear,To grunt and sweat under a weary life,But that the dread of something after death,The undiscover'd country from whose bournNo traveller returns, puzzles the willAnd makes us rather bear those ills we haveThan fly to others that we know not of?Thus conscience does make cowards of us all;And thus the native hue of resolutionIs sicklied o'er with the pale cast of thought,And enterprises of great pith and momentWith this regard their currents turn awry,And lose the name of action.--Soft you now!The fair Ophelia! Nymph, in thy orisonsBe all my sins remember'd.\"\"\"\n",
    "text = re.sub(r\"[\\.\\,\\:\\' \\;\\n\\-\\?\\!]*\", \"\", original_text).lower()\n",
    "\n",
    "# print(original_text)\n",
    "# print(text)\n",
    "\n",
    "def compute_marginal_probability(letter, text):\n",
    "    probability = None\n",
    "    \n",
    "    # TODO: write code here to estimate P(letter) in the given text\n",
    "        \n",
    "    return probability\n",
    "\n",
    "def compute_conditional_probability(letter, previous_letter, text):\n",
    "    cond_probability = None\n",
    "    \n",
    "    # TODO: write code here to estimate P(letter | previous_letter) in the text\n",
    "        \n",
    "    return cond_probability\n",
    "\n",
    "print(compute_marginal_probability(\"a\", text))\n",
    "\n",
    "print(compute_conditional_probability(\"a\", \"h\", text))"
   ]
  },
  {
   "cell_type": "markdown",
   "metadata": {},
   "source": [
    "## Example 3\n",
    "\n",
    "We toss a fair coin 3 times. What is the probability that more heads than tails come up if the first toss is head?"
   ]
  },
  {
   "cell_type": "code",
   "execution_count": null,
   "metadata": {},
   "outputs": [],
   "source": [
    "def estimate_more_heads_probability(num_experiments):\n",
    "\n",
    "    # TODO: simulate and estimate the probability of getting more heads given that first toss is a head\n",
    "\n",
    "estimate_more_heads_probability(100)\n",
    "    "
   ]
  },
  {
   "cell_type": "code",
   "execution_count": null,
   "metadata": {},
   "outputs": [],
   "source": []
  }
 ],
 "metadata": {
  "kernelspec": {
   "display_name": "Python 3 (ipykernel)",
   "language": "python",
   "name": "python3"
  },
  "language_info": {
   "codemirror_mode": {
    "name": "ipython",
    "version": 3
   },
   "file_extension": ".py",
   "mimetype": "text/x-python",
   "name": "python",
   "nbconvert_exporter": "python",
   "pygments_lexer": "ipython3",
   "version": "3.8.3"
  },
  "varInspector": {
   "cols": {
    "lenName": 16,
    "lenType": 16,
    "lenVar": 40
   },
   "kernels_config": {
    "python": {
     "delete_cmd_postfix": "",
     "delete_cmd_prefix": "del ",
     "library": "var_list.py",
     "varRefreshCmd": "print(var_dic_list())"
    },
    "r": {
     "delete_cmd_postfix": ") ",
     "delete_cmd_prefix": "rm(",
     "library": "var_list.r",
     "varRefreshCmd": "cat(var_dic_list()) "
    }
   },
   "types_to_exclude": [
    "module",
    "function",
    "builtin_function_or_method",
    "instance",
    "_Feature"
   ],
   "window_display": false
  }
 },
 "nbformat": 4,
 "nbformat_minor": 1
}
