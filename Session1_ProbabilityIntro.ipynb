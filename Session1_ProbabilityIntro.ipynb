{
 "cells": [
  {
   "cell_type": "markdown",
   "metadata": {
    "collapsed": true
   },
   "source": [
    "# Introduction to Probability\n",
    "\n",
    "This notebook accompanies the Introduction to Probability lecture and includes the simulations and visualizations for different examples of the use of probability theory in practice. The aim of these examples is to build intuition on how probability works."
   ]
  },
  {
   "cell_type": "code",
   "execution_count": null,
   "metadata": {},
   "outputs": [],
   "source": [
    "import random\n",
    "import numpy as np\n",
    "from util import plot_event_probabilities"
   ]
  },
  {
   "cell_type": "markdown",
   "metadata": {},
   "source": [
    "## Example 1: a coin toss"
   ]
  },
  {
   "cell_type": "code",
   "execution_count": null,
   "metadata": {},
   "outputs": [],
   "source": [
    "def coin():\n",
    "    return random.sample(['head', 'tail'], 1)[0]\n",
    "\n",
    "coin()"
   ]
  },
  {
   "cell_type": "code",
   "execution_count": null,
   "metadata": {},
   "outputs": [],
   "source": [
    "# random.sample?"
   ]
  },
  {
   "cell_type": "markdown",
   "metadata": {},
   "source": [
    "## Example 2: rolling a die\n",
    "\n",
    "What if instead of a coin, we had a die? What would the simulation look like then?"
   ]
  },
  {
   "cell_type": "code",
   "execution_count": null,
   "metadata": {},
   "outputs": [],
   "source": [
    "# TODO: write the same simulation here, but instead of tossing a coin, the simulation should roll a 6-sided die\n",
    "\n"
   ]
  },
  {
   "cell_type": "markdown",
   "metadata": {},
   "source": [
    "## Example 3: weighted coin\n",
    "\n",
    "Going back to the coin example: what if we somehow temper with the coin, and head and tail are not equally likely anymore? We make a weighted coin and look into its behavior."
   ]
  },
  {
   "cell_type": "code",
   "execution_count": null,
   "metadata": {},
   "outputs": [],
   "source": [
    "# TODO: write a function to simulate a weighted coin with probability of getting head 0.3\n",
    "\n",
    "# hint: random() function\n",
    "\n",
    "def weighted_coin(...):\n",
    "    pass"
   ]
  },
  {
   "cell_type": "code",
   "execution_count": null,
   "metadata": {},
   "outputs": [],
   "source": [
    "# what if p_head = 0.5? - repeat the simulation above to see"
   ]
  },
  {
   "cell_type": "markdown",
   "metadata": {},
   "source": [
    "## Example 4: multiple coin tosses \n",
    "\n",
    "If we toss a coin 3 times, what is the probability that we get exactly 2 heads?\n",
    "\n",
    "What are the possible outcomes here, what are the events?"
   ]
  },
  {
   "cell_type": "code",
   "execution_count": null,
   "metadata": {},
   "outputs": [],
   "source": [
    "def toss_coin_n_times(n):\n",
    "    outputs = None\n",
    "    \n",
    "    # TODO: write code here\n",
    "    \n",
    "    return outputs\n",
    "\n",
    "number_of_trials = None \n",
    "\n",
    "toss_coin_n_times(number_of_trials)"
   ]
  },
  {
   "cell_type": "markdown",
   "metadata": {},
   "source": [
    "How can we now estimate the probabilities of such events? What would simulation look like?"
   ]
  },
  {
   "cell_type": "code",
   "execution_count": null,
   "metadata": {},
   "outputs": [],
   "source": [
    "def simulate_event_probabilities(p_head, n, num_experiments):\n",
    "    \n",
    "    # TODO: write code here to estimate how often we get each of the outcomes\n",
    "    \n",
    "    return event_probabilities"
   ]
  },
  {
   "cell_type": "markdown",
   "metadata": {},
   "source": [
    "This way of obtaining probability distributions through simulations is called Monte Carlo simulation."
   ]
  },
  {
   "cell_type": "markdown",
   "metadata": {},
   "source": [
    "We can also show the results of the simulation graphically:"
   ]
  },
  {
   "cell_type": "code",
   "execution_count": null,
   "metadata": {},
   "outputs": [],
   "source": [
    "p_head = None\n",
    "n = None\n",
    "num_experiments = None\n",
    "\n",
    "event_probabilities = simulate_event_probababilities(p_head, n, num_experiments)\n",
    "\n",
    "plot_event_probabilities()"
   ]
  },
  {
   "cell_type": "markdown",
   "metadata": {},
   "source": [
    "## Example 5: going back to the betting example\n",
    "\n",
    "If we throw a fair coin 10 times, what is the probability that we get 5 heads and 5 tails? Write the code to simulate this experiment and empirically estimate its probability.\n",
    "\n",
    "Some thinking points:\n",
    "- what is the event in this case?\n",
    "- what are possible outcomes?"
   ]
  },
  {
   "cell_type": "code",
   "execution_count": null,
   "metadata": {},
   "outputs": [],
   "source": [
    "# TODO: Write the code here and estimate the probability of obtaining exactly 5 heads and 5 tails in 10 coin tosses\n",
    "\n"
   ]
  }
 ],
 "metadata": {
  "kernelspec": {
   "display_name": "Python 3 (ipykernel)",
   "language": "python",
   "name": "python3"
  },
  "language_info": {
   "codemirror_mode": {
    "name": "ipython",
    "version": 3
   },
   "file_extension": ".py",
   "mimetype": "text/x-python",
   "name": "python",
   "nbconvert_exporter": "python",
   "pygments_lexer": "ipython3",
   "version": "3.8.3"
  },
  "varInspector": {
   "cols": {
    "lenName": 16,
    "lenType": 16,
    "lenVar": 40
   },
   "kernels_config": {
    "python": {
     "delete_cmd_postfix": "",
     "delete_cmd_prefix": "del ",
     "library": "var_list.py",
     "varRefreshCmd": "print(var_dic_list())"
    },
    "r": {
     "delete_cmd_postfix": ") ",
     "delete_cmd_prefix": "rm(",
     "library": "var_list.r",
     "varRefreshCmd": "cat(var_dic_list()) "
    }
   },
   "types_to_exclude": [
    "module",
    "function",
    "builtin_function_or_method",
    "instance",
    "_Feature"
   ],
   "window_display": false
  }
 },
 "nbformat": 4,
 "nbformat_minor": 1
}