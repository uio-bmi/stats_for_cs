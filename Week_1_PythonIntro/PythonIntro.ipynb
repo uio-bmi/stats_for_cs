{
 "cells": [
  {
   "cell_type": "markdown",
   "source": [
    "# Python Programming Revision\n",
    "\n",
    "This notebook accompanies the Python Programming Revision lecture and includes examples of key Python programming concepts. The aim of these examples is to familiarize students with Python fundamentals and introduce scientific libraries, such as Numpy, Pandas, and Plotly, which will be used in subsequent lectures."
   ],
   "metadata": {
    "collapsed": false
   },
   "id": "4119d66a61fa8655"
  },
  {
   "cell_type": "markdown",
   "source": [
    "# Python's key features\n",
    "In this section you will learn about Python's key features, such as:\n",
    "- f-strings,\n",
    "- data structures, \n",
    "- logic, \n",
    "- control flow, \n",
    "- functions, \n",
    "- assertions."
   ],
   "metadata": {
    "collapsed": false
   },
   "id": "6cd12c1caef67aed"
  },
  {
   "cell_type": "code",
   "outputs": [
    {
     "name": "stdout",
     "output_type": "stream",
     "text": [
      "Hello World!\n"
     ]
    }
   ],
   "source": [
    "# Classic Hello World example:\n",
    "print(\"Hello World!\")"
   ],
   "metadata": {
    "collapsed": false,
    "ExecuteTime": {
     "end_time": "2024-10-03T16:12:43.624292Z",
     "start_time": "2024-10-03T16:12:43.615759Z"
    }
   },
   "id": "43b94ef2f8398b4e",
   "execution_count": 13
  },
  {
   "cell_type": "code",
   "outputs": [
    {
     "name": "stdout",
     "output_type": "stream",
     "text": [
      "Alice scored 90 in the test.\n"
     ]
    }
   ],
   "source": [
    "# Using f-strings:\n",
    "name = \"Alice\"\n",
    "score = 90\n",
    "print(f\"{name} scored {score} in the test.\")  # Output: Alice scored 90 in the test."
   ],
   "metadata": {
    "collapsed": false,
    "ExecuteTime": {
     "end_time": "2024-10-03T16:12:49.563829Z",
     "start_time": "2024-10-03T16:12:49.560315Z"
    }
   },
   "id": "be23e9ec95242713",
   "execution_count": 14
  },
  {
   "cell_type": "code",
   "outputs": [
    {
     "name": "stdout",
     "output_type": "stream",
     "text": [
      "Half of 90 is 45.0.\n"
     ]
    }
   ],
   "source": [
    "# Complex expression inside f-string:\n",
    "print(f\"Half of {score} is {score / 2}.\")"
   ],
   "metadata": {
    "collapsed": false,
    "ExecuteTime": {
     "end_time": "2024-10-03T16:13:28.483784Z",
     "start_time": "2024-10-03T16:13:28.479142Z"
    }
   },
   "id": "a808beb1ec3b8756",
   "execution_count": 15
  },
  {
   "cell_type": "code",
   "outputs": [
    {
     "name": "stdout",
     "output_type": "stream",
     "text": [
      "[10, 20, 30, 40, 50]\n",
      "[10, 20, 30, 40, 50, 60]\n",
      "[10, 20, 30, 40, 60]\n",
      "[10, 20, 30, 40]\n"
     ]
    }
   ],
   "source": [
    "# Creating and adding values to the list:\n",
    "my_list = [10, 20, 30, 40, 50]\n",
    "print(my_list)  # Output: [10, 20, 30, 40, 50]\n",
    "my_list.append(60)\n",
    "print(my_list)  # Output: [10, 20, 30, 40, 50, 60]\n",
    "\n",
    "# Deleting fifth element\n",
    "my_list.pop(4)\n",
    "print(my_list)  # Output: [10, 20, 30, 40, 60]\n",
    "# Deleting a specific element from the list:\n",
    "my_list.remove(60)\n",
    "print(my_list) # Output: [10, 20, 30, 40, 60]"
   ],
   "metadata": {
    "collapsed": false,
    "ExecuteTime": {
     "end_time": "2024-10-03T16:19:40.950846Z",
     "start_time": "2024-10-03T16:19:40.945035Z"
    }
   },
   "id": "54871be865ae593f",
   "execution_count": 24
  },
  {
   "cell_type": "code",
   "outputs": [
    {
     "name": "stdout",
     "output_type": "stream",
     "text": [
      "20\n",
      "50\n",
      "[10, 20, 30]\n",
      "[20, 30, 40]\n"
     ]
    }
   ],
   "source": [
    "# Accessing Elements and Slicing:\n",
    "print(my_list[1])  # Output: 20 (second element)\n",
    "print(my_list[-1])  # Output: 50 (last element)\n",
    "print(my_list[:3])  # Output: [10, 20, 30] (first three elements)\n",
    "print(my_list[1:4])  # Output: [20, 30, 40] (second, third and fourth elements)"
   ],
   "metadata": {
    "collapsed": false,
    "ExecuteTime": {
     "end_time": "2024-10-03T16:15:32.022636Z",
     "start_time": "2024-10-03T16:15:32.018689Z"
    }
   },
   "id": "c23454cfe96e6f64",
   "execution_count": 18
  },
  {
   "cell_type": "code",
   "outputs": [
    {
     "name": "stdout",
     "output_type": "stream",
     "text": [
      "10\n",
      "20\n",
      "30\n",
      "40\n",
      "50\n"
     ]
    }
   ],
   "source": [
    "# Using for loop to iterate over a list:\n",
    "for item in my_list:\n",
    "    print(item)"
   ],
   "metadata": {
    "collapsed": false,
    "ExecuteTime": {
     "end_time": "2024-10-03T16:06:52.019513Z",
     "start_time": "2024-10-03T16:06:52.014697Z"
    }
   },
   "id": "da77d0a2e07ba9cb",
   "execution_count": 4
  },
  {
   "cell_type": "code",
   "outputs": [
    {
     "name": "stdout",
     "output_type": "stream",
     "text": [
      "{'Alice': 85, 'Bob': 92, 'Charlie': 78}\n",
      "92\n",
      "{'Alice': 85, 'Bob': 92, 'Charlie': 78, 'David': 90}\n"
     ]
    }
   ],
   "source": [
    "# Creating and accessing a dictionary:\n",
    "student_scores = {\"Alice\": 85, \"Bob\": 92, \"Charlie\": 78}\n",
    "print(student_scores)  # Output: {'Alice': 85, 'Bob': 92, 'Charlie': 78}\n",
    "print(student_scores[\"Bob\"])  # Output: 92 (Bob's score)"
   ],
   "metadata": {
    "collapsed": false,
    "ExecuteTime": {
     "end_time": "2024-10-03T16:08:28.998496Z",
     "start_time": "2024-10-03T16:08:28.994764Z"
    }
   },
   "id": "16c2e962e4ab14cc",
   "execution_count": 8
  },
  {
   "cell_type": "code",
   "outputs": [
    {
     "name": "stdout",
     "output_type": "stream",
     "text": [
      "{'Alice': 85, 'Bob': 92, 'Charlie': 80, 'David': 90}\n",
      "{'Alice': 85, 'Bob': 92, 'Charlie': 80, 'David': 90}\n",
      "{'Bob': 92, 'Charlie': 80, 'David': 90}\n"
     ]
    }
   ],
   "source": [
    "# Adding a new key-value pair:\n",
    "student_scores[\"David\"] = 90\n",
    "print(student_scores)  # Output: {'Alice': 85, 'Bob': 92, 'Charlie': 78, 'David': 90}\n",
    "# Updating an existing value:\n",
    "student_scores[\"Charlie\"] = 80\n",
    "print(student_scores)  # Output: {'Alice': 85, 'Bob': 92, 'Charlie': 80, 'David': 90}\n",
    "# Deleting a key-value pair:\n",
    "del student_scores[\"Alice\"]\n",
    "print(student_scores)  # Output: {'Bob': 92, 'Charlie': 80, 'David': 90}"
   ],
   "metadata": {
    "collapsed": false,
    "ExecuteTime": {
     "end_time": "2024-10-03T16:09:50.049965Z",
     "start_time": "2024-10-03T16:09:50.045867Z"
    }
   },
   "id": "836dc153e6f758bd",
   "execution_count": 10
  },
  {
   "cell_type": "code",
   "outputs": [
    {
     "name": "stdout",
     "output_type": "stream",
     "text": [
      "Bob scored 92\n",
      "Charlie scored 80\n",
      "David scored 90\n"
     ]
    }
   ],
   "source": [
    "# Iterating over a dictionary with for loop:\n",
    "for key, value in student_scores.items():\n",
    "    print(f\"{key} scored {value}\")"
   ],
   "metadata": {
    "collapsed": false,
    "ExecuteTime": {
     "end_time": "2024-10-03T16:11:13.559523Z",
     "start_time": "2024-10-03T16:11:13.548474Z"
    }
   },
   "id": "da66c5da96e13de7",
   "execution_count": 12
  },
  {
   "cell_type": "code",
   "outputs": [
    {
     "name": "stdout",
     "output_type": "stream",
     "text": [
      "Good\n"
     ]
    }
   ],
   "source": [
    "score = 85\n",
    "if score > 90:\n",
    "    print(\"Excellent\")\n",
    "elif score > 80:\n",
    "    print(\"Good\")\n",
    "else:\n",
    "    print(\"Needs Improvement\")"
   ],
   "metadata": {
    "collapsed": false,
    "ExecuteTime": {
     "end_time": "2024-10-03T16:20:51.835639Z",
     "start_time": "2024-10-03T16:20:51.831161Z"
    }
   },
   "id": "467e9c9238c87b5c",
   "execution_count": 25
  },
  {
   "cell_type": "code",
   "outputs": [
    {
     "name": "stdout",
     "output_type": "stream",
     "text": [
      "Number: 0\n",
      "Number: 1\n",
      "Number: 2\n",
      "Number: 3\n",
      "Number: 4\n"
     ]
    }
   ],
   "source": [
    "# for loop with range:\n",
    "for i in range(5):\n",
    "    print(f\"Number: {i}\")"
   ],
   "metadata": {
    "collapsed": false,
    "ExecuteTime": {
     "end_time": "2024-10-03T16:21:19.434398Z",
     "start_time": "2024-10-03T16:21:19.429410Z"
    }
   },
   "id": "312d2ed3a9c38bb3",
   "execution_count": 26
  },
  {
   "cell_type": "code",
   "outputs": [
    {
     "name": "stdout",
     "output_type": "stream",
     "text": [
      "Count: 0\n",
      "Count: 1\n",
      "Count: 2\n",
      "Count: 3\n",
      "Count: 4\n"
     ]
    }
   ],
   "source": [
    "# while loop:\n",
    "count = 0\n",
    "while count < 5:\n",
    "    print(f\"Count: {count}\")\n",
    "    count += 1"
   ],
   "metadata": {
    "collapsed": false,
    "ExecuteTime": {
     "end_time": "2024-10-03T16:22:03.835015Z",
     "start_time": "2024-10-03T16:22:03.830907Z"
    }
   },
   "id": "94534212496d10f3",
   "execution_count": 27
  },
  {
   "cell_type": "code",
   "outputs": [
    {
     "name": "stdout",
     "output_type": "stream",
     "text": [
      "Eligible for award\n",
      "Considered for award\n",
      "Score does not need improvement\n"
     ]
    }
   ],
   "source": [
    "# Logical operators (and, or, not):\n",
    "\n",
    "# and: True if both conditions are true\n",
    "score = 85\n",
    "attendance = 90\n",
    "if score > 80 and attendance > 85:\n",
    "    print(\"Eligible for award\")\n",
    "\n",
    "# or: True if at least one condition is true\n",
    "# Checking multiple conditions using `or`\n",
    "if score > 90 or attendance > 85:\n",
    "    print(\"Considered for award\")\n",
    "\n",
    "# not: True if the condition is false\n",
    "if not score < 80:\n",
    "    print(\"Score does not need improvement\")"
   ],
   "metadata": {
    "collapsed": false,
    "ExecuteTime": {
     "end_time": "2024-10-03T16:27:03.868495Z",
     "start_time": "2024-10-03T16:27:03.864753Z"
    }
   },
   "id": "5b16e7fc75bfc67",
   "execution_count": 30
  },
  {
   "cell_type": "code",
   "outputs": [
    {
     "name": "stdout",
     "output_type": "stream",
     "text": [
      "[1, 4, 9, 16, 25]\n",
      "[4, 16]\n"
     ]
    }
   ],
   "source": [
    "# List comprehension:\n",
    "squares = [x**2 for x in range(1, 6)]\n",
    "print(squares) # Output: [1, 4, 9, 16, 25]\n",
    "\n",
    "# List comprehension with condition:\n",
    "even_squares = [x**2 for x in range(1, 6) if x % 2 == 0]\n",
    "print(even_squares)  # Output: [4, 16]"
   ],
   "metadata": {
    "collapsed": false,
    "ExecuteTime": {
     "end_time": "2024-10-03T16:44:57.449958Z",
     "start_time": "2024-10-03T16:44:57.445276Z"
    }
   },
   "id": "2828727a80cb34d0",
   "execution_count": 43
  },
  {
   "cell_type": "code",
   "outputs": [
    {
     "name": "stdout",
     "output_type": "stream",
     "text": [
      "{1: 1, 2: 4, 3: 9, 4: 16, 5: 25}\n",
      "{2: 4, 4: 16}\n"
     ]
    }
   ],
   "source": [
    "# Dictionary comprehension:\n",
    "squares_dict = {x: x**2 for x in range(1, 6)}\n",
    "print(squares_dict)\n",
    "\n",
    "# Dictionary comprehension with condition:\n",
    "even_squares_dict = {x: x**2 for x in range(1, 6) if x % 2 == 0}\n",
    "print(even_squares_dict)"
   ],
   "metadata": {
    "collapsed": false,
    "ExecuteTime": {
     "end_time": "2024-10-03T16:46:07.525802Z",
     "start_time": "2024-10-03T16:46:07.519347Z"
    }
   },
   "id": "cd4c6b16935c0ec2",
   "execution_count": 49
  },
  {
   "cell_type": "code",
   "outputs": [
    {
     "name": "stdout",
     "output_type": "stream",
     "text": [
      "Hello, Alice!\n"
     ]
    }
   ],
   "source": [
    "# Functions:\n",
    "def greet(name):\n",
    "    return f\"Hello, {name}!\"\n",
    "\n",
    "print(greet(\"Alice\"))  # Output: Hello, Alice!"
   ],
   "metadata": {
    "collapsed": false,
    "ExecuteTime": {
     "end_time": "2024-10-03T16:28:34.569503Z",
     "start_time": "2024-10-03T16:28:34.564739Z"
    }
   },
   "id": "4e8d36884d647e79",
   "execution_count": 31
  },
  {
   "cell_type": "code",
   "outputs": [
    {
     "name": "stdout",
     "output_type": "stream",
     "text": [
      "Hello, Alice!\n",
      "Hello, Bob!\n"
     ]
    }
   ],
   "source": [
    "# Functions with default arguments:\n",
    "def greet(name=\"Alice\"):\n",
    "    return f\"Hello, {name}!\"\n",
    "\n",
    "print(greet())  # Output: Hello, Alice!\n",
    "print(greet(\"Bob\"))  # Output: Hello, Bob!"
   ],
   "metadata": {
    "collapsed": false,
    "ExecuteTime": {
     "end_time": "2024-10-03T16:29:15.118668Z",
     "start_time": "2024-10-03T16:29:15.115061Z"
    }
   },
   "id": "b032ea225d92a777",
   "execution_count": 33
  },
  {
   "cell_type": "code",
   "outputs": [
    {
     "name": "stdout",
     "output_type": "stream",
     "text": [
      "Good Morning, Alice!\n"
     ]
    }
   ],
   "source": [
    "# Functions with multiple arguments:\n",
    "def greet(name, message):\n",
    "    return f\"{message}, {name}!\"\n",
    "\n",
    "print(greet(\"Alice\", \"Good Morning\"))  # Output: Good Morning, Alice!"
   ],
   "metadata": {
    "collapsed": false,
    "ExecuteTime": {
     "end_time": "2024-10-03T16:29:27.880138Z",
     "start_time": "2024-10-03T16:29:27.874701Z"
    }
   },
   "id": "a7a6d81b3a817f30",
   "execution_count": 34
  },
  {
   "cell_type": "code",
   "outputs": [
    {
     "name": "stdout",
     "output_type": "stream",
     "text": [
      "Alice scored 85\n",
      "Alice scored 85\n"
     ]
    }
   ],
   "source": [
    "# Functions with multiple return values:\n",
    "def get_student_info():\n",
    "    name = \"Alice\"\n",
    "    score = 85\n",
    "    return name, score\n",
    "\n",
    "student_name, student_score = get_student_info()\n",
    "print(f\"{student_name} scored {student_score}\")  # Output: Alice scored 85\n",
    "student_information = get_student_info()\n",
    "print(f\"{student_information[0]} scored {student_information[1]}\")  # Output: Alice scored 85"
   ],
   "metadata": {
    "collapsed": false,
    "ExecuteTime": {
     "end_time": "2024-10-03T16:30:56.817415Z",
     "start_time": "2024-10-03T16:30:56.814248Z"
    }
   },
   "id": "b96b6ec56c28bb05",
   "execution_count": 38
  },
  {
   "cell_type": "code",
   "outputs": [
    {
     "name": "stdout",
     "output_type": "stream",
     "text": [
      "20\n"
     ]
    }
   ],
   "source": [
    "# Lambda functions:\n",
    "multiply = lambda x, y: x * y\n",
    "print(multiply(5, 4))  # Output: 20"
   ],
   "metadata": {
    "collapsed": false,
    "ExecuteTime": {
     "end_time": "2024-10-03T16:29:56.217141Z",
     "start_time": "2024-10-03T16:29:56.206645Z"
    }
   },
   "id": "92bc05019faf75de",
   "execution_count": 36
  },
  {
   "cell_type": "code",
   "outputs": [],
   "source": [
    "# Assertions:\n",
    "def add(a, b):\n",
    "    return a + b\n",
    "\n",
    "assert add(3, 4) == 7  # Passes"
   ],
   "metadata": {
    "collapsed": false,
    "ExecuteTime": {
     "end_time": "2024-10-03T16:36:11.344413Z",
     "start_time": "2024-10-03T16:36:11.330959Z"
    }
   },
   "id": "bb5f9ff3d17d3b0a",
   "execution_count": 40
  },
  {
   "cell_type": "code",
   "outputs": [
    {
     "ename": "AssertionError",
     "evalue": "",
     "output_type": "error",
     "traceback": [
      "\u001B[0;31m---------------------------------------------------------------------------\u001B[0m",
      "\u001B[0;31mAssertionError\u001B[0m                            Traceback (most recent call last)",
      "Cell \u001B[0;32mIn[41], line 1\u001B[0m\n\u001B[0;32m----> 1\u001B[0m \u001B[38;5;28;01massert\u001B[39;00m add(\u001B[38;5;241m3\u001B[39m, \u001B[38;5;241m4\u001B[39m) \u001B[38;5;241m==\u001B[39m \u001B[38;5;241m8\u001B[39m\n",
      "\u001B[0;31mAssertionError\u001B[0m: "
     ]
    }
   ],
   "source": [
    "assert add(3, 4) == 8  # Fails"
   ],
   "metadata": {
    "collapsed": false,
    "ExecuteTime": {
     "end_time": "2024-10-03T16:36:20.597461Z",
     "start_time": "2024-10-03T16:36:20.588758Z"
    }
   },
   "id": "db4e4757fa286de6",
   "execution_count": 41
  }
 ],
 "metadata": {
  "kernelspec": {
   "display_name": "Python 3",
   "language": "python",
   "name": "python3"
  },
  "language_info": {
   "codemirror_mode": {
    "name": "ipython",
    "version": 2
   },
   "file_extension": ".py",
   "mimetype": "text/x-python",
   "name": "python",
   "nbconvert_exporter": "python",
   "pygments_lexer": "ipython2",
   "version": "2.7.6"
  }
 },
 "nbformat": 4,
 "nbformat_minor": 5
}
